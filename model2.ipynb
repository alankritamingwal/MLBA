{
 "cells": [
  {
   "cell_type": "code",
   "execution_count": 2,
   "metadata": {},
   "outputs": [],
   "source": [
    "import pandas as pd\n",
    "from sklearn.feature_extraction.text import TfidfVectorizer\n",
    "from sklearn.svm import SVC\n",
    "from sklearn.metrics import classification_report\n",
    "from sklearn.feature_selection import RFE"
   ]
  },
  {
   "cell_type": "code",
   "execution_count": 3,
   "metadata": {},
   "outputs": [],
   "source": [
    "# Step 1: Load Preprocessed Data\n",
    "train_df = pd.read_csv('train.csv')\n",
    "test_df = pd.read_csv('test.csv')"
   ]
  },
  {
   "cell_type": "code",
   "execution_count": 4,
   "metadata": {},
   "outputs": [],
   "source": [
    "# Step 2: Prepare Data\n",
    "X_train = train_df['Sequence']\n",
    "y_train = train_df['Label']\n",
    "X_test = test_df['Sequence']\n",
    "test_ids = test_df['ID']  # Extract 'ID' from the test dataset"
   ]
  },
  {
   "cell_type": "code",
   "execution_count": 5,
   "metadata": {},
   "outputs": [],
   "source": [
    "# Step 3: Feature Extraction (Using TF-IDF as an example)\n",
    "tfidf_vectorizer = TfidfVectorizer()\n",
    "X_train_tfidf = tfidf_vectorizer.fit_transform(X_train)\n",
    "X_test_tfidf = tfidf_vectorizer.transform(X_test)"
   ]
  },
  {
   "cell_type": "code",
   "execution_count": 6,
   "metadata": {},
   "outputs": [],
   "source": [
    "# Step 4: Apply Recursive Feature Elimination (RFE)\n",
    "svm_model = SVC(kernel='linear')\n",
    "rfe = RFE(estimator=svm_model, n_features_to_select=100)  # Adjust the number of features as needed\n",
    "X_train_rfe = rfe.fit_transform(X_train_tfidf, y_train)\n",
    "X_test_rfe = rfe.transform(X_test_tfidf)"
   ]
  },
  {
   "cell_type": "code",
   "execution_count": 15,
   "metadata": {},
   "outputs": [],
   "source": [
    "# Step 5: Train a Machine Learning Model\n",
    "svm_model.fit(X_train_rfe, y_train)\n",
    "\n",
    "# Step 6: Make Predictions on Test Data\n",
    "y_test_pred = svm_model.predict(X_test_rfe)\n",
    "\n",
    "# Step 7: Create a DataFrame for Predictions\n",
    "result_df = pd.DataFrame({'ID': test_ids, 'label': y_test_pred})\n",
    "\n",
    "# Step 8: Save Predictions to 'result.csv'\n",
    "result_df.to_csv('result2.csv', index=False)\n",
    "\n",
    "\n"
   ]
  },
  {
   "cell_type": "code",
   "execution_count": null,
   "metadata": {},
   "outputs": [],
   "source": []
  }
 ],
 "metadata": {
  "kernelspec": {
   "display_name": "Python 3",
   "language": "python",
   "name": "python3"
  },
  "language_info": {
   "codemirror_mode": {
    "name": "ipython",
    "version": 3
   },
   "file_extension": ".py",
   "mimetype": "text/x-python",
   "name": "python",
   "nbconvert_exporter": "python",
   "pygments_lexer": "ipython3",
   "version": "3.11.3"
  },
  "orig_nbformat": 4
 },
 "nbformat": 4,
 "nbformat_minor": 2
}
