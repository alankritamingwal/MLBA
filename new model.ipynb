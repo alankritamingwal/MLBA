{
 "cells": [
  {
   "cell_type": "code",
   "execution_count": 1,
   "metadata": {},
   "outputs": [],
   "source": [
    "import pandas as pd\n",
    "import numpy as np"
   ]
  },
  {
   "cell_type": "code",
   "execution_count": 2,
   "metadata": {},
   "outputs": [],
   "source": [
    "\n",
    "train_data = pd.read_csv('train.csv')\n",
    "test_data = pd.read_csv('test.csv')"
   ]
  },
  {
   "cell_type": "code",
   "execution_count": 3,
   "metadata": {},
   "outputs": [],
   "source": [
    "train_two = []\n",
    "cur =0\n",
    "for i in range(train_data.shape[0]):\n",
    "  z  = len(train_data.iloc[i][0])\n",
    "  x =0\n",
    "  for j in range(z):\n",
    "    y = (ord(train_data.iloc[i][0][j])-65)\n",
    "    if((y<0 or y>25)==True):\n",
    "      x=1\n",
    "      break\n",
    "  if(x==0):\n",
    "    train_two.append(train_data.iloc[i])\n",
    "    cur+=1\n",
    "\n",
    "\n",
    "train_two = pd.DataFrame(train_two)\n",
    "train_data = train_two"
   ]
  },
  {
   "cell_type": "code",
   "execution_count": 4,
   "metadata": {},
   "outputs": [],
   "source": [
    "train_label = train_data['Label']"
   ]
  },
  {
   "cell_type": "code",
   "execution_count": 5,
   "metadata": {},
   "outputs": [],
   "source": [
    "train_feature20 = []\n",
    "test_feature20=[]\n",
    "\n",
    "\n",
    "for i in range(train_data.shape[0]):\n",
    "  x = []\n",
    "  for j in range(26):\n",
    "    x.append(0)\n",
    "  z = len(train_data.iloc[i][0])\n",
    "  for j in range(z):\n",
    "    y = (ord(train_data.iloc[i][0][j])-65)\n",
    "    x[y]=x[y]+1\n",
    "\n",
    "  for j in range(26):\n",
    "    x[j]=x[j]/z\n",
    "\n",
    "\n",
    "  train_feature20.append(x)\n",
    "\n",
    "\n",
    "for i in range(test_data.shape[0]):\n",
    "  x = []\n",
    "  for j in range(26):\n",
    "    x.append(0)\n",
    "  z = len(test_data.iloc[i][1])\n",
    "  for j in range(z):\n",
    "    y = (ord(test_data.iloc[i][1][j])-65)\n",
    "    x[y]=x[y]+1\n",
    "  for j in range(26):\n",
    "    x[j]=x[j]/z\n",
    "  test_feature20.append(x)\n",
    "\n",
    "\n",
    "test_feature20 = pd.DataFrame(test_feature20)\n",
    "train_feature20 = pd.DataFrame(train_feature20)"
   ]
  },
  {
   "cell_type": "code",
   "execution_count": 6,
   "metadata": {},
   "outputs": [],
   "source": [
    "test_feature2020 = []\n",
    "test_feature2020 = pd.DataFrame(test_feature2020)\n",
    "train_feature2020 = []\n",
    "train_feature2020 = pd.DataFrame(train_feature2020)\n",
    "\n",
    "test_feature2020 = test_feature20[0]\n",
    "train_feature2020 = train_feature20[0]\n",
    "\n",
    "for i in range(1,26):\n",
    "  if(i!=1 and i!=23 and i!=25 and i!=(ord('J')-65) and i!=(ord('O')-65) and i!=(ord('U')-65)):\n",
    "    test_feature2020 = pd.concat([test_feature2020,test_feature20[i]],axis=1)\n",
    "    train_feature2020 = pd.concat([train_feature2020,train_feature20[i]],axis=1)"
   ]
  },
  {
   "cell_type": "code",
   "execution_count": 7,
   "metadata": {},
   "outputs": [],
   "source": [
    "arr = []\n",
    "notar = ['B','X','Z','O','J','U']\n",
    "\n",
    "notadd = []\n",
    "\n",
    "posa =[]\n",
    "for i in range(26):\n",
    "  for j in range(6):\n",
    "    notadd.append(i*26+(ord(notar[j])-65))\n",
    "    notadd.append((ord(notar[j])-65)*26+i)"
   ]
  },
  {
   "cell_type": "code",
   "execution_count": 8,
   "metadata": {},
   "outputs": [],
   "source": [
    "train_feature = []\n",
    "test_feature=[]\n",
    "\n",
    "\n",
    "for i in range(train_data.shape[0]):\n",
    "  x = []\n",
    "  for j in range(26*26):\n",
    "    x.append(0)\n",
    "  z = len(train_data.iloc[i][0])\n",
    "  for j in range(z-1):\n",
    "    y = (ord(train_data.iloc[i][0][j])-65)\n",
    "    p = (ord(train_data.iloc[i][0][j+1])-65)\n",
    "    pos = ((y)*26) + p\n",
    "\n",
    "    x[pos]=x[pos]+1\n",
    "\n",
    "  for j in range(26*26):\n",
    "    x[j]=x[j]/z\n",
    "\n",
    "  train_feature.append(x)\n",
    "\n",
    "for i in range(test_data.shape[0]):\n",
    "  x = []\n",
    "  for j in range(26*26):\n",
    "    x.append(0)\n",
    "  z = len(test_data.iloc[i][1])\n",
    "  for j in range(z-1):\n",
    "    y = (ord(test_data.iloc[i][1][j])-65)\n",
    "    p = (ord(test_data.iloc[i][1][j+1])-65)\n",
    "    pos = ((y)*26)+p\n",
    "\n",
    "    x[pos]=x[pos]+1\n",
    "  for j in range(26*26):\n",
    "    x[j]=x[j]/z\n",
    "\n",
    "  test_feature.append(x)\n",
    "\n",
    "test_feature = pd.DataFrame(test_feature)\n",
    "train_feature = pd.DataFrame(train_feature)\n"
   ]
  },
  {
   "cell_type": "code",
   "execution_count": 9,
   "metadata": {},
   "outputs": [],
   "source": [
    "import pandas as pd\n",
    "test_feature1 = test_feature[0]\n",
    "train_feature1 = train_feature[0]\n",
    "\n",
    "for i in range(1,26*26):\n",
    "  if((i in notadd) == False):\n",
    "    test_feature1 = pd.concat([test_feature1,test_feature[i]],axis=1)\n",
    "    train_feature1 = pd.concat([train_feature1,train_feature[i]],axis=1)"
   ]
  },
  {
   "cell_type": "code",
   "execution_count": 10,
   "metadata": {},
   "outputs": [],
   "source": [
    "\n",
    "from sklearn.ensemble import BaggingClassifier\n",
    "i=0\n",
    "y_final=[]\n",
    "from sklearn.svm import SVC\n",
    "from sklearn.pipeline import make_pipeline\n",
    "from sklearn.preprocessing import StandardScaler\n",
    "from sklearn.ensemble import StackingClassifier\n",
    "from sklearn.linear_model import LogisticRegression\n",
    "# from sklearn.ensemble import RandomForestClassifier\n",
    "\n",
    "while(i!=1):\n",
    "  from sklearn import metrics\n",
    "  from sklearn.ensemble import RandomForestClassifier\n",
    "  from sklearn.svm import SVC\n",
    "\n",
    "  CLASS=SVC(C=1.0, cache_size=200, class_weight=None, coef0=0.0,\n",
    "    decision_function_shape='ovr', degree=3, gamma='auto',\n",
    "    kernel='linear', max_iter=-1, probability=True, random_state=0,\n",
    "    shrinking=True, tol=0.001, verbose=False)\n",
    " # gnb = RandomForestClassifier(max_depth=60, random_state=83,max_features='sqrt',n_estimators = 4000)\n",
    "  CLASS.fit(train_feature1,train_label)\n",
    "  y_pred = CLASS.predict_proba(test_feature1)\n",
    "\n",
    "  y_final.append(y_pred)\n",
    "  i+=1"
   ]
  },
  {
   "cell_type": "code",
   "execution_count": 11,
   "metadata": {},
   "outputs": [],
   "source": [
    "\n",
    "ans=[]\n",
    "for i in range(310):\n",
    "  ct =0\n",
    "  for j in range(1):\n",
    "    ct+=y_final[j][i][1]\n",
    "  avg = ct/1\n",
    "  ans.append(avg)"
   ]
  },
  {
   "cell_type": "code",
   "execution_count": 12,
   "metadata": {},
   "outputs": [],
   "source": [
    "import pandas as pd\n",
    "df = pd.DataFrame(ans)\n",
    "df.columns = ['Label']\n",
    "ID = np.arange(310) + 501\n",
    "ID = pd.DataFrame(ID)\n",
    "ID.columns = ['ID']\n",
    "final_data = pd.concat([ID, df], axis=1)\n",
    "final_data.to_csv('result.csv', index=False)"
   ]
  },
  {
   "cell_type": "code",
   "execution_count": null,
   "metadata": {},
   "outputs": [],
   "source": []
  }
 ],
 "metadata": {
  "kernelspec": {
   "display_name": "Python 3",
   "language": "python",
   "name": "python3"
  },
  "language_info": {
   "codemirror_mode": {
    "name": "ipython",
    "version": 3
   },
   "file_extension": ".py",
   "mimetype": "text/x-python",
   "name": "python",
   "nbconvert_exporter": "python",
   "pygments_lexer": "ipython3",
   "version": "3.11.3"
  },
  "orig_nbformat": 4
 },
 "nbformat": 4,
 "nbformat_minor": 2
}
