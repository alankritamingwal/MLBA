{
 "cells": [
  {
   "cell_type": "code",
   "execution_count": 1,
   "metadata": {},
   "outputs": [
    {
     "name": "stdout",
     "output_type": "stream",
     "text": [
      "Collecting xgboost\n",
      "  Downloading xgboost-2.0.0-py3-none-win_amd64.whl (99.7 MB)\n",
      "     ---------------------------------------- 99.7/99.7 MB 1.6 MB/s eta 0:00:00\n",
      "Requirement already satisfied: numpy in c:\\python311\\lib\\site-packages (from xgboost) (1.23.5)\n",
      "Requirement already satisfied: scipy in c:\\python311\\lib\\site-packages (from xgboost) (1.10.1)\n",
      "Installing collected packages: xgboost\n",
      "Successfully installed xgboost-2.0.0\n"
     ]
    },
    {
     "name": "stderr",
     "output_type": "stream",
     "text": [
      "\n",
      "[notice] A new release of pip available: 22.3.1 -> 23.2.1\n",
      "[notice] To update, run: python.exe -m pip install --upgrade pip\n"
     ]
    }
   ],
   "source": [
    "! pip install xgboost"
   ]
  },
  {
   "cell_type": "code",
   "execution_count": 2,
   "metadata": {},
   "outputs": [],
   "source": [
    "import pandas as pd\n",
    "import numpy as np"
   ]
  },
  {
   "cell_type": "code",
   "execution_count": 3,
   "metadata": {},
   "outputs": [],
   "source": [
    "\n",
    "train_data = pd.read_csv('train.csv')\n",
    "test_data = pd.read_csv('test.csv')"
   ]
  },
  {
   "cell_type": "code",
   "execution_count": 4,
   "metadata": {},
   "outputs": [],
   "source": [
    "train_two = []\n",
    "cur =0\n",
    "for i in range(train_data.shape[0]):\n",
    "  z  = len(train_data.iloc[i][0])\n",
    "  x =0\n",
    "  for j in range(z):\n",
    "    y = (ord(train_data.iloc[i][0][j])-65)\n",
    "    if((y<0 or y>25)==True):\n",
    "      x=1\n",
    "      break\n",
    "  if(x==0):\n",
    "    train_two.append(train_data.iloc[i])\n",
    "    cur+=1\n",
    "\n",
    "\n",
    "train_two = pd.DataFrame(train_two)\n",
    "train_data = train_two"
   ]
  },
  {
   "cell_type": "code",
   "execution_count": 5,
   "metadata": {},
   "outputs": [],
   "source": [
    "train_label = train_data['Label']\n",
    "train_feature20 = []\n",
    "test_feature20=[]\n",
    "\n",
    "\n",
    "for i in range(train_data.shape[0]):\n",
    "  x = []\n",
    "  for j in range(26):\n",
    "    x.append(0)\n",
    "  z = len(train_data.iloc[i][0])\n",
    "  for j in range(z):\n",
    "    y = (ord(train_data.iloc[i][0][j])-65)\n",
    "    x[y]=x[y]+1\n",
    "\n",
    "  for j in range(26):\n",
    "    x[j]=x[j]/z\n",
    "\n",
    "\n",
    "  train_feature20.append(x)\n",
    "\n",
    "\n",
    "for i in range(test_data.shape[0]):\n",
    "  x = []\n",
    "  for j in range(26):\n",
    "    x.append(0)\n",
    "  z = len(test_data.iloc[i][1])\n",
    "  for j in range(z):\n",
    "    y = (ord(test_data.iloc[i][1][j])-65)\n",
    "    x[y]=x[y]+1\n",
    "  for j in range(26):\n",
    "    x[j]=x[j]/z\n",
    "  test_feature20.append(x)\n",
    "\n",
    "\n",
    "test_feature20 = pd.DataFrame(test_feature20)\n",
    "train_feature20 = pd.DataFrame(train_feature20)"
   ]
  },
  {
   "cell_type": "code",
   "execution_count": 8,
   "metadata": {},
   "outputs": [],
   "source": [
    "test_feature2020 = []\n",
    "test_feature2020 = pd.DataFrame(test_feature2020)\n",
    "train_feature2020 = []\n",
    "train_feature2020 = pd.DataFrame(train_feature2020)\n",
    "\n",
    "test_feature2020 = test_feature20[0]\n",
    "train_feature2020 = train_feature20[0]\n",
    "\n",
    "for i in range(1,26):\n",
    "  if(i!=1 and i!=23 and i!=25 and i!=(ord('J')-65) and i!=(ord('O')-65) and i!=(ord('U')-65)):\n",
    "    test_feature2020 = pd.concat([test_feature2020,test_feature20[i]],axis=1)\n",
    "    train_feature2020 = pd.concat([train_feature2020,train_feature20[i]],axis=1)\n",
    "\n",
    "arr = []\n",
    "notar = ['B','X','Z','O','J','U']\n",
    "\n",
    "notadd = []\n",
    "\n",
    "posa =[]\n",
    "for i in range(26):\n",
    "  for j in range(6):\n",
    "    notadd.append(i*26+(ord(notar[j])-65))\n",
    "    notadd.append((ord(notar[j])-65)*26+i)"
   ]
  },
  {
   "cell_type": "code",
   "execution_count": 9,
   "metadata": {},
   "outputs": [],
   "source": [
    "train_feature = []\n",
    "test_feature=[]\n",
    "\n",
    "\n",
    "for i in range(train_data.shape[0]):\n",
    "  x = []\n",
    "  for j in range(26*26):\n",
    "    x.append(0)\n",
    "  z = len(train_data.iloc[i][0])\n",
    "  for j in range(z-1):\n",
    "    y = (ord(train_data.iloc[i][0][j])-65)\n",
    "    p = (ord(train_data.iloc[i][0][j+1])-65)\n",
    "    pos = ((y)*26) + p\n",
    "\n",
    "    x[pos]=x[pos]+1\n",
    "\n",
    "  for j in range(26*26):\n",
    "    x[j]=x[j]/z\n",
    "\n",
    "  train_feature.append(x)\n",
    "\n",
    "for i in range(test_data.shape[0]):\n",
    "  x = []\n",
    "  for j in range(26*26):\n",
    "    x.append(0)\n",
    "  z = len(test_data.iloc[i][1])\n",
    "  for j in range(z-1):\n",
    "    y = (ord(test_data.iloc[i][1][j])-65)\n",
    "    p = (ord(test_data.iloc[i][1][j+1])-65)\n",
    "    pos = ((y)*26)+p\n",
    "\n",
    "    x[pos]=x[pos]+1\n",
    "  for j in range(26*26):\n",
    "    x[j]=x[j]/z\n",
    "\n",
    "  test_feature.append(x)\n",
    "\n",
    "test_feature = pd.DataFrame(test_feature)\n",
    "train_feature = pd.DataFrame(train_feature)\n"
   ]
  },
  {
   "cell_type": "code",
   "execution_count": 10,
   "metadata": {},
   "outputs": [],
   "source": [
    "import pandas as pd\n",
    "test_feature1 = test_feature[0]\n",
    "train_feature1 = train_feature[0]\n",
    "\n",
    "for i in range(1,26*26):\n",
    "  if((i in notadd) == False):\n",
    "    test_feature1 = pd.concat([test_feature1,test_feature[i]],axis=1)\n",
    "    train_feature1 = pd.concat([train_feature1,train_feature[i]],axis=1)"
   ]
  },
  {
   "cell_type": "code",
   "execution_count": 11,
   "metadata": {},
   "outputs": [],
   "source": [
    "from sklearn.feature_selection import SelectKBest, f_classif\n",
    "import xgboost as xgb \n",
    "k = 290\n",
    "# Feature selection\n",
    "i=0\n",
    "y_final=[]\n",
    "# Feature selection\n",
    "selector = SelectKBest(f_classif, k=k)\n",
    "train_feature1_selected = selector.fit_transform(train_feature1, train_label)\n",
    "test_feature1_selected = selector.transform(test_feature1)\n",
    "\n",
    "while(i!=1):\n",
    "    from sklearn import metrics\n",
    "    # Create an XGBoost classifier\n",
    "    xgb_classifier = xgb.XGBClassifier(\n",
    "        n_estimators=100,  # You can adjust this parameter\n",
    "        max_depth=3,        # You can adjust this parameter\n",
    "        random_state=0\n",
    "    )\n",
    "    # Fit the classifier to the selected training features\n",
    "    xgb_classifier.fit(train_feature1_selected, train_label)\n",
    "# Make predictions on the selected testing features\n",
    "    y_pred = xgb_classifier.predict_proba(test_feature1_selected)\n",
    "    y_final.append(y_pred)\n",
    "    i+=1\n"
   ]
  },
  {
   "cell_type": "code",
   "execution_count": 12,
   "metadata": {},
   "outputs": [],
   "source": [
    "\n",
    "ans=[]\n",
    "for i in range(310):\n",
    "  ct =0\n",
    "  for j in range(1):\n",
    "    ct+=y_final[j][i][1]\n",
    "  avg = ct/1\n",
    "  ans.append(avg)\n",
    "\n",
    "import pandas as pd\n",
    "df = pd.DataFrame(ans)\n",
    "df.columns = ['Label']\n",
    "ID = np.arange(310) + 501\n",
    "ID = pd.DataFrame(ID)\n",
    "ID.columns = ['ID']\n",
    "final_data = pd.concat([ID, df], axis=1)\n",
    "final_data.to_csv('result3.csv', index=False)"
   ]
  },
  {
   "cell_type": "code",
   "execution_count": null,
   "metadata": {},
   "outputs": [],
   "source": []
  }
 ],
 "metadata": {
  "kernelspec": {
   "display_name": "Python 3",
   "language": "python",
   "name": "python3"
  },
  "language_info": {
   "codemirror_mode": {
    "name": "ipython",
    "version": 3
   },
   "file_extension": ".py",
   "mimetype": "text/x-python",
   "name": "python",
   "nbconvert_exporter": "python",
   "pygments_lexer": "ipython3",
   "version": "3.11.3"
  },
  "orig_nbformat": 4
 },
 "nbformat": 4,
 "nbformat_minor": 2
}
